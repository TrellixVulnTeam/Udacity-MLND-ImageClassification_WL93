{
 "cells": [
  {
   "cell_type": "markdown",
   "metadata": {
    "collapsed": true
   },
   "source": [
    "# Image Classification\n",
    "In this project, you'll classify images from the [CIFAR-10 dataset](https://www.cs.toronto.edu/~kriz/cifar.html).  The dataset consists of airplanes, dogs, cats, and other objects. You'll preprocess the images, then train a convolutional neural network on all the samples. The images need to be normalized and the labels need to be one-hot encoded.  You'll get to apply what you learned and build a convolutional, max pooling, dropout, and fully connected layers.  At the end, you'll get to see your neural network's predictions on the sample images.\n",
    "## Get the Data\n",
    "Run the following cell to download the [CIFAR-10 dataset for python](https://www.cs.toronto.edu/~kriz/cifar-10-python.tar.gz)."
   ]
  },
  {
   "cell_type": "code",
   "execution_count": 1,
   "metadata": {},
   "outputs": [
    {
     "name": "stdout",
     "output_type": "stream",
     "text": [
      "All files found!\n"
     ]
    }
   ],
   "source": [
    "\"\"\"\n",
    "DON'T MODIFY ANYTHING IN THIS CELL THAT IS BELOW THIS LINE\n",
    "\"\"\"\n",
    "from urllib.request import urlretrieve\n",
    "from os.path import isfile, isdir\n",
    "from tqdm import tqdm\n",
    "import problem_unittests as tests\n",
    "import tarfile\n",
    "\n",
    "cifar10_dataset_folder_path = 'cifar-10-batches-py'\n",
    "\n",
    "class DLProgress(tqdm):\n",
    "    last_block = 0\n",
    "\n",
    "    def hook(self, block_num=1, block_size=1, total_size=None):\n",
    "        self.total = total_size\n",
    "        self.update((block_num - self.last_block) * block_size)\n",
    "        self.last_block = block_num\n",
    "\n",
    "if not isfile('cifar-10-python.tar.gz'):\n",
    "    with DLProgress(unit='B', unit_scale=True, miniters=1, desc='CIFAR-10 Dataset') as pbar:\n",
    "        urlretrieve(\n",
    "            'https://www.cs.toronto.edu/~kriz/cifar-10-python.tar.gz',\n",
    "            'cifar-10-python.tar.gz',\n",
    "            pbar.hook)\n",
    "\n",
    "if not isdir(cifar10_dataset_folder_path):\n",
    "    with tarfile.open('cifar-10-python.tar.gz') as tar:\n",
    "        tar.extractall()\n",
    "        tar.close()\n",
    "\n",
    "\n",
    "tests.test_folder_path(cifar10_dataset_folder_path)"
   ]
  },
  {
   "cell_type": "markdown",
   "metadata": {},
   "source": [
    "## Explore the Data\n",
    "The dataset is broken into batches to prevent your machine from running out of memory.  The CIFAR-10 dataset consists of 5 batches, named `data_batch_1`, `data_batch_2`, etc.. Each batch contains the labels and images that are one of the following:\n",
    "* airplane\n",
    "* automobile\n",
    "* bird\n",
    "* cat\n",
    "* deer\n",
    "* dog\n",
    "* frog\n",
    "* horse\n",
    "* ship\n",
    "* truck\n",
    "\n",
    "Understanding a dataset is part of making predictions on the data.  Play around with the code cell below by changing the `batch_id` and `sample_id`. The `batch_id` is the id for a batch (1-5). The `sample_id` is the id for a image and label pair in the batch.\n",
    "\n",
    "Ask yourself \"What are all possible labels?\", \"What is the range of values for the image data?\", \"Are the labels in order or random?\".  Answers to questions like these will help you preprocess the data and end up with better predictions."
   ]
  },
  {
   "cell_type": "code",
   "execution_count": 2,
   "metadata": {},
   "outputs": [
    {
     "name": "stdout",
     "output_type": "stream",
     "text": [
      "\n",
      "Stats of batch 1:\n",
      "Samples: 10000\n",
      "Label Counts: {0: 1005, 1: 974, 2: 1032, 3: 1016, 4: 999, 5: 937, 6: 1030, 7: 1001, 8: 1025, 9: 981}\n",
      "First 20 Labels: [6, 9, 9, 4, 1, 1, 2, 7, 8, 3, 4, 7, 7, 2, 9, 9, 9, 3, 2, 6]\n",
      "\n",
      "Example of Image 5:\n",
      "Image - Min Value: 0 Max Value: 252\n",
      "Image - Shape: (32, 32, 3)\n",
      "Label - Label Id: 1 Name: automobile\n"
     ]
    },
    {
     "data": {
      "image/png": "[encoded data removed]",
      "text/plain": [
       "<matplotlib.figure.Figure at 0x118428c88>"
      ]
     },
     "metadata": {
      "image/png": {
       "height": 250,
       "width": 253
      }
     },
     "output_type": "display_data"
    }
   ],
   "source": [
    "%matplotlib inline\n",
    "%config InlineBackend.figure_format = 'retina'\n",
    "\n",
    "import helper\n",
    "import numpy as np\n",
    "\n",
    "# Explore the dataset\n",
    "batch_id = 1\n",
    "sample_id = 5\n",
    "helper.display_stats(cifar10_dataset_folder_path, batch_id, sample_id)"
   ]
  },
  {
   "cell_type": "markdown",
   "metadata": {},
   "source": [
    "## Implement Preprocess Functions\n",
    "### Normalize\n",
    "In the cell below, implement the `normalize` function to take in image data, `x`, and return it as a normalized Numpy array. The values should be in the range of 0 to 1, inclusive.  The return object should be the same shape as `x`."
   ]
  },
  {
   "cell_type": "code",
   "execution_count": 3,
   "metadata": {},
   "outputs": [
    {
     "name": "stdout",
     "output_type": "stream",
     "text": [
      "Tests Passed\n"
     ]
    }
   ],
   "source": [
    "def normalize(x):\n",
    "    \"\"\"\n",
    "    Normalize a list of sample image data in the range of 0 to 1\n",
    "    : x: List of image data.  The image shape is (32, 32, 3)\n",
    "    : return: Numpy array of normalize data\n",
    "    \"\"\"\n",
    "    # TODO: Implement Function\n",
    "    a = 0\n",
    "    b = 1\n",
    "    grayscale_min = 0\n",
    "    grayscale_max = 255\n",
    "    return a + (((x-grayscale_min)*(b-a))/(grayscale_max-grayscale_min))\n",
    "\n",
    "\n",
    "\"\"\"\n",
    "DON'T MODIFY ANYTHING IN THIS CELL THAT IS BELOW THIS LINE\n",
    "\"\"\"\n",
    "tests.test_normalize(normalize)"
   ]
  },
  {
   "cell_type": "markdown",
   "metadata": {},
   "source": [
    "### One-hot encode\n",
    "Just like the previous code cell, you'll be implementing a function for preprocessing.  This time, you'll implement the `one_hot_encode` function. The input, `x`, are a list of labels.  Implement the function to return the list of labels as One-Hot encoded Numpy array.  The possible values for labels are 0 to 9. The one-hot encoding function should return the same encoding for each value between each call to `one_hot_encode`.  Make sure to save the map of encodings outside the function.\n",
    "\n",
    "**Hint:**\n",
    "\n",
    "Look into LabelBinarizer in the preprocessing module of sklearn."
   ]
  },
  {
   "cell_type": "code",
   "execution_count": 4,
   "metadata": {},
   "outputs": [
    {
     "name": "stdout",
     "output_type": "stream",
     "text": [
      "Tests Passed\n"
     ]
    }
   ],
   "source": [
    "from sklearn.preprocessing import LabelBinarizer\n",
    "\n",
    "def one_hot_encode(x):\n",
    "    \"\"\"\n",
    "    One hot encode a list of sample labels. Return a one-hot encoded vector for each label.\n",
    "    : x: List of sample Labels\n",
    "    : return: Numpy array of one-hot encoded labels\n",
    "    \"\"\"\n",
    "    # TODO: Implement Function\n",
    "    encoder = LabelBinarizer()\n",
    "    encoder.fit(x)\n",
    "#     return encoder.transform(x)\n",
    "    return np.eye(10)[x]\n",
    "\n",
    "\n",
    "\"\"\"\n",
    "DON'T MODIFY ANYTHING IN THIS CELL THAT IS BELOW THIS LINE\n",
    "\"\"\"\n",
    "tests.test_one_hot_encode(one_hot_encode)"
   ]
  },
  {
   "cell_type": "markdown",
   "metadata": {},
   "source": [
    "### Randomize Data\n",
    "As you saw from exploring the data above, the order of the samples are randomized.  It doesn't hurt to randomize it again, but you don't need to for this dataset."
   ]
  },
  {
   "cell_type": "markdown",
   "metadata": {},
   "source": [
    "## Preprocess all the data and save it\n",
    "Running the code cell below will preprocess all the CIFAR-10 data and save it to file. The code below also uses 10% of the training data for validation."
   ]
  },
  {
   "cell_type": "code",
   "execution_count": 5,
   "metadata": {
    "collapsed": true
   },
   "outputs": [],
   "source": [
    "\"\"\"\n",
    "DON'T MODIFY ANYTHING IN THIS CELL\n",
    "\"\"\"\n",
    "# Preprocess Training, Validation, and Testing Data\n",
    "helper.preprocess_and_save_data(cifar10_dataset_folder_path, normalize, one_hot_encode)"
   ]
  },
  {
   "cell_type": "markdown",
   "metadata": {},
   "source": [
    "# Check Point\n",
    "This is your first checkpoint.  If you ever decide to come back to this notebook or have to restart the notebook, you can start from here.  The preprocessed data has been saved to disk."
   ]
  },
  {
   "cell_type": "code",
   "execution_count": 6,
   "metadata": {
    "collapsed": true
   },
   "outputs": [],
   "source": [
    "\"\"\"\n",
    "DON'T MODIFY ANYTHING IN THIS CELL\n",
    "\"\"\"\n",
    "import pickle\n",
    "import problem_unittests as tests\n",
    "import helper\n",
    "\n",
    "# Load the Preprocessed Validation data\n",
    "valid_features, valid_labels = pickle.load(open('preprocess_validation.p', mode='rb'))"
   ]
  },
  {
   "cell_type": "markdown",
   "metadata": {},
   "source": [
    "## Build the network\n",
    "For the neural network, you'll build each layer into a function.  Most of the code you've seen has been outside of functions. To test your code more thoroughly, we require that you put each layer in a function.  This allows us to give you better feedback and test for simple mistakes using our unittests before you submit your project.\n",
    "\n",
    ">**Note:** If you're finding it hard to dedicate enough time for this course each week, we've provided a small shortcut to this part of the project. In the next couple of problems, you'll have the option to use classes from the [TensorFlow Layers](https://www.tensorflow.org/api_docs/python/tf/layers) or [TensorFlow Layers (contrib)](https://www.tensorflow.org/api_guides/python/contrib.layers) packages to build each layer, except the layers you build in the \"Convolutional and Max Pooling Layer\" section.  TF Layers is similar to Keras's and TFLearn's abstraction to layers, so it's easy to pickup.\n",
    "\n",
    ">However, if you would like to get the most out of this course, try to solve all the problems _without_ using anything from the TF Layers packages. You **can** still use classes from other packages that happen to have the same name as ones you find in TF Layers! For example, instead of using the TF Layers version of the `conv2d` class, [tf.layers.conv2d](https://www.tensorflow.org/api_docs/python/tf/layers/conv2d), you would want to use the TF Neural Network version of `conv2d`, [tf.nn.conv2d](https://www.tensorflow.org/api_docs/python/tf/nn/conv2d). \n",
    "\n",
    "Let's begin!\n",
    "\n",
    "### Input\n",
    "The neural network needs to read the image data, one-hot encoded labels, and dropout keep probability. Implement the following functions\n",
    "* Implement `neural_net_image_input`\n",
    " * Return a [TF Placeholder](https://www.tensorflow.org/api_docs/python/tf/placeholder)\n",
    " * Set the shape using `image_shape` with batch size set to `None`.\n",
    " * Name the TensorFlow placeholder \"x\" using the TensorFlow `name` parameter in the [TF Placeholder](https://www.tensorflow.org/api_docs/python/tf/placeholder).\n",
    "* Implement `neural_net_label_input`\n",
    " * Return a [TF Placeholder](https://www.tensorflow.org/api_docs/python/tf/placeholder)\n",
    " * Set the shape using `n_classes` with batch size set to `None`.\n",
    " * Name the TensorFlow placeholder \"y\" using the TensorFlow `name` parameter in the [TF Placeholder](https://www.tensorflow.org/api_docs/python/tf/placeholder).\n",
    "* Implement `neural_net_keep_prob_input`\n",
    " * Return a [TF Placeholder](https://www.tensorflow.org/api_docs/python/tf/placeholder) for dropout keep probability.\n",
    " * Name the TensorFlow placeholder \"keep_prob\" using the TensorFlow `name` parameter in the [TF Placeholder](https://www.tensorflow.org/api_docs/python/tf/placeholder).\n",
    "\n",
    "These names will be used at the end of the project to load your saved model.\n",
    "\n",
    "Note: `None` for shapes in TensorFlow allow for a dynamic size."
   ]
  },
  {
   "cell_type": "code",
   "execution_count": 7,
   "metadata": {},
   "outputs": [
    {
     "name": "stdout",
     "output_type": "stream",
     "text": [
      "Image Input Tests Passed.\n",
      "Label Input Tests Passed.\n",
      "Keep Prob Tests Passed.\n"
     ]
    }
   ],
   "source": [
    "import tensorflow as tf\n",
    "\n",
    "def neural_net_image_input(image_shape):\n",
    "    \"\"\"\n",
    "    Return a Tensor for a batch of image input\n",
    "    : image_shape: Shape of the images\n",
    "    : return: Tensor for image input.\n",
    "    \"\"\"\n",
    "    # TODO: Implement Function\n",
    "    return tf.placeholder(tf.float32, shape=[None, *image_shape], name=\"x\")\n",
    "\n",
    "\n",
    "def neural_net_label_input(n_classes):\n",
    "    \"\"\"\n",
    "    Return a Tensor for a batch of label input\n",
    "    : n_classes: Number of classes\n",
    "    : return: Tensor for label input.\n",
    "    \"\"\"\n",
    "    # TODO: Implement Function\n",
    "    return tf.placeholder(tf.float32, shape=[None, n_classes], name=\"y\")\n",
    "\n",
    "\n",
    "def neural_net_keep_prob_input():\n",
    "    \"\"\"\n",
    "    Return a Tensor for keep probability\n",
    "    : return: Tensor for keep probability.\n",
    "    \"\"\"\n",
    "    # TODO: Implement Function\n",
    "    return tf.placeholder(tf.float32, name=\"keep_prob\")\n",
    "\n",
    "\n",
    "\"\"\"\n",
    "DON'T MODIFY ANYTHING IN THIS CELL THAT IS BELOW THIS LINE\n",
    "\"\"\"\n",
    "tf.reset_default_graph()\n",
    "tests.test_nn_image_inputs(neural_net_image_input)\n",
    "tests.test_nn_label_inputs(neural_net_label_input)\n",
    "tests.test_nn_keep_prob_inputs(neural_net_keep_prob_input)"
   ]
  },
  {
   "cell_type": "markdown",
   "metadata": {},
   "source": [
    "### Convolution and Max Pooling Layer\n",
    "Convolution layers have a lot of success with images. For this code cell, you should implement the function `conv2d_maxpool` to apply convolution then max pooling:\n",
    "* Create the weight and bias using `conv_ksize`, `conv_num_outputs` and the shape of `x_tensor`.\n",
    "* Apply a convolution to `x_tensor` using weight and `conv_strides`.\n",
    " * We recommend you use same padding, but you're welcome to use any padding.\n",
    "* Add bias\n",
    "* Add a nonlinear activation to the convolution.\n",
    "* Apply Max Pooling using `pool_ksize` and `pool_strides`.\n",
    " * We recommend you use same padding, but you're welcome to use any padding.\n",
    "\n",
    "**Note:** You **can't** use [TensorFlow Layers](https://www.tensorflow.org/api_docs/python/tf/layers) or [TensorFlow Layers (contrib)](https://www.tensorflow.org/api_guides/python/contrib.layers) for **this** layer, but you can still use TensorFlow's [Neural Network](https://www.tensorflow.org/api_docs/python/tf/nn) package. You may still use the shortcut option for all the **other** layers.\n",
    "\n",
    "** Hint: **\n",
    "\n",
    "When unpacking values as an argument in Python, look into the [unpacking](https://docs.python.org/3/tutorial/controlflow.html#unpacking-argument-lists) operator. "
   ]
  },
  {
   "cell_type": "code",
   "execution_count": 8,
   "metadata": {},
   "outputs": [
    {
     "name": "stdout",
     "output_type": "stream",
     "text": [
      "Tests Passed\n"
     ]
    }
   ],
   "source": [
    "def conv2d_maxpool(x_tensor, conv_num_outputs, conv_ksize, conv_strides, pool_ksize, pool_strides):\n",
    "    \"\"\"\n",
    "    Apply convolution then max pooling to x_tensor\n",
    "    :param x_tensor: TensorFlow Tensor\n",
    "    :param conv_num_outputs: Number of outputs for the convolutional layer\n",
    "    :param conv_ksize: kernal size 2-D Tuple for the convolutional layer\n",
    "    :param conv_strides: Stride 2-D Tuple for convolution\n",
    "    :param pool_ksize: kernal size 2-D Tuple for pool\n",
    "    :param pool_strides: Stride 2-D Tuple for pool\n",
    "    : return: A tensor that represents convolution and max pooling of x_tensor\n",
    "    \"\"\"\n",
    "    # TODO: Implement Function\n",
    "    # Input/Image\n",
    "    input_depth = x_tensor.get_shape().as_list()[-1]\n",
    "\n",
    "    # Weight and bias\n",
    "    weight = tf.Variable(tf.truncated_normal(\n",
    "        [conv_ksize[0], conv_ksize[1], input_depth, conv_num_outputs], mean=0, stddev=0.1))\n",
    "    bias = tf.Variable(tf.zeros(conv_num_outputs))\n",
    "\n",
    "    # Apply Convolution\n",
    "    conv_layer = tf.nn.conv2d(x_tensor, weight, [1,conv_strides[0],conv_strides[1],1], padding='SAME')\n",
    "    # Add bias\n",
    "    conv_layer = tf.nn.bias_add(conv_layer, bias)\n",
    "    # Apply activation function\n",
    "    conv_layer = tf.nn.max_pool(conv_layer, [1, pool_ksize[0], pool_ksize[1], 1], [1, pool_strides[0],\n",
    "                                                                                     pool_strides[1], 1], 'SAME')\n",
    "    conv_layer = tf.nn.relu(conv_layer)\n",
    "    return conv_layer\n",
    "\n",
    "\n",
    "\"\"\"\n",
    "DON'T MODIFY ANYTHING IN THIS CELL THAT IS BELOW THIS LINE\n",
    "\"\"\"\n",
    "tests.test_con_pool(conv2d_maxpool)"
   ]
  },
  {
   "cell_type": "markdown",
   "metadata": {},
   "source": [
    "### Flatten Layer\n",
    "Implement the `flatten` function to change the dimension of `x_tensor` from a 4-D tensor to a 2-D tensor.  The output should be the shape (*Batch Size*, *Flattened Image Size*). Shortcut option: you can use classes from the [TensorFlow Layers](https://www.tensorflow.org/api_docs/python/tf/layers) or [TensorFlow Layers (contrib)](https://www.tensorflow.org/api_guides/python/contrib.layers) packages for this layer. For more of a challenge, only use other TensorFlow packages."
   ]
  },
  {
   "cell_type": "code",
   "execution_count": 9,
   "metadata": {},
   "outputs": [
    {
     "name": "stdout",
     "output_type": "stream",
     "text": [
      "Tests Passed\n"
     ]
    }
   ],
   "source": [
    "def flatten(x_tensor):\n",
    "    \"\"\"\n",
    "    Flatten x_tensor to (Batch Size, Flattened Image Size)\n",
    "    : x_tensor: A tensor of size (Batch Size, ...), where ... are the image dimensions.\n",
    "    : return: A tensor of size (Batch Size, Flattened Image Size).\n",
    "    \"\"\"\n",
    "    # TODO: Implement Function\n",
    "#     return tf.contrib.layers.flatten(x_tensor)\n",
    "    batch = x_tensor.get_shape().as_list()[0]\n",
    "    width = x_tensor.get_shape().as_list()[1]\n",
    "    height = x_tensor.get_shape().as_list()[2]\n",
    "    depth = x_tensor.get_shape().as_list()[3]\n",
    "#     print(x_tensor.get_shape().as_list())\n",
    "#     print(batch,width, heigth, depth)\n",
    "#     return tf.placeholder(tf.float32, shape = [batch,width*height*depth])\n",
    "    dimension = x_tensor.get_shape().as_list()\n",
    "    return tf.reshape(x_tensor,[-1,np.prod(dimension[1:])])\n",
    "\n",
    "\n",
    "\"\"\"\n",
    "DON'T MODIFY ANYTHING IN THIS CELL THAT IS BELOW THIS LINE\n",
    "\"\"\"\n",
    "tests.test_flatten(flatten)"
   ]
  },
  {
   "cell_type": "markdown",
   "metadata": {},
   "source": [
    "### Fully-Connected Layer\n",
    "Implement the `fully_conn` function to apply a fully connected layer to `x_tensor` with the shape (*Batch Size*, *num_outputs*). Shortcut option: you can use classes from the [TensorFlow Layers](https://www.tensorflow.org/api_docs/python/tf/layers) or [TensorFlow Layers (contrib)](https://www.tensorflow.org/api_guides/python/contrib.layers) packages for this layer. For more of a challenge, only use other TensorFlow packages."
   ]
  },
  {
   "cell_type": "code",
   "execution_count": 10,
   "metadata": {},
   "outputs": [
    {
     "name": "stdout",
     "output_type": "stream",
     "text": [
      "Tests Passed\n"
     ]
    }
   ],
   "source": [
    "def fully_conn(x_tensor, num_outputs):\n",
    "    \"\"\"\n",
    "    Apply a fully connected layer to x_tensor using weight and bias\n",
    "    : x_tensor: A 2-D tensor where the first dimension is batch size.\n",
    "    : num_outputs: The number of output that the new tensor should be.\n",
    "    : return: A 2-D tensor where the second dimension is num_outputs.\n",
    "    \"\"\"\n",
    "    # TODO: Implement Function\n",
    "    shape = x_tensor.get_shape().as_list()\n",
    "    weights = tf.Variable(tf.random_normal([shape[-1], num_outputs], mean=0, stddev=0.1))\n",
    "    bias = tf.Variable(tf.zeros(num_outputs))\n",
    "    full_conv = tf.add(tf.matmul(x_tensor, weights), bias)\n",
    "    full_conv = tf.nn.relu(full_conv)\n",
    "    return full_conv\n",
    "\n",
    "\n",
    "\"\"\"\n",
    "DON'T MODIFY ANYTHING IN THIS CELL THAT IS BELOW THIS LINE\n",
    "\"\"\"\n",
    "tests.test_fully_conn(fully_conn)"
   ]
  },
  {
   "cell_type": "markdown",
   "metadata": {},
   "source": [
    "### Output Layer\n",
    "Implement the `output` function to apply a fully connected layer to `x_tensor` with the shape (*Batch Size*, *num_outputs*). Shortcut option: you can use classes from the [TensorFlow Layers](https://www.tensorflow.org/api_docs/python/tf/layers) or [TensorFlow Layers (contrib)](https://www.tensorflow.org/api_guides/python/contrib.layers) packages for this layer. For more of a challenge, only use other TensorFlow packages.\n",
    "\n",
    "**Note:** Activation, softmax, or cross entropy should **not** be applied to this."
   ]
  },
  {
   "cell_type": "code",
   "execution_count": 11,
   "metadata": {},
   "outputs": [
    {
     "name": "stdout",
     "output_type": "stream",
     "text": [
      "Tests Passed\n"
     ]
    }
   ],
   "source": [
    "def output(x_tensor, num_outputs):\n",
    "    \"\"\"\n",
    "    Apply a output layer to x_tensor using weight and bias\n",
    "    : x_tensor: A 2-D tensor where the first dimension is batch size.\n",
    "    : num_outputs: The number of output that the new tensor should be.\n",
    "    : return: A 2-D tensor where the second dimension is num_outputs.\n",
    "    \"\"\"\n",
    "    # TODO: Implement Function\n",
    "    shape = x_tensor.get_shape().as_list()\n",
    "    weights = tf.Variable(tf.random_normal([shape[-1], num_outputs], mean=0, stddev=0.1))\n",
    "    bias = tf.Variable(tf.zeros(num_outputs))\n",
    "    output = tf.add(tf.matmul(x_tensor, weights), bias)\n",
    "    return output\n",
    "\n",
    "\n",
    "\"\"\"\n",
    "DON'T MODIFY ANYTHING IN THIS CELL THAT IS BELOW THIS LINE\n",
    "\"\"\"\n",
    "tests.test_output(output)"
   ]
  },
  {
   "cell_type": "markdown",
   "metadata": {},
   "source": [
    "### Create Convolutional Model\n",
    "Implement the function `conv_net` to create a convolutional neural network model. The function takes in a batch of images, `x`, and outputs logits.  Use the layers you created above to create this model:\n",
    "\n",
    "* Apply 1, 2, or 3 Convolution and Max Pool layers\n",
    "* Apply a Flatten Layer\n",
    "* Apply 1, 2, or 3 Fully Connected Layers\n",
    "* Apply an Output Layer\n",
    "* Return the output\n",
    "* Apply [TensorFlow's Dropout](https://www.tensorflow.org/api_docs/python/tf/nn/dropout) to one or more layers in the model using `keep_prob`. "
   ]
  },
  {
   "cell_type": "code",
   "execution_count": 12,
   "metadata": {},
   "outputs": [
    {
     "name": "stdout",
     "output_type": "stream",
     "text": [
      "Neural Network Built!\n"
     ]
    }
   ],
   "source": [
    "def conv_net(x, keep_prob):\n",
    "    \"\"\"\n",
    "    Create a convolutional neural network model\n",
    "    : x: Placeholder tensor that holds image data.\n",
    "    : keep_prob: Placeholder tensor that hold dropout keep probability.\n",
    "    : return: Tensor that represents logits\n",
    "    \"\"\"\n",
    "    # TODO: Apply 1, 2, or 3 Convolution and Max Pool layers\n",
    "    #    Play around with different number of outputs, kernel size and stride\n",
    "    # Function Definition from Above:\n",
    "    #    conv2d_maxpool(x_tensor, conv_num_outputs, conv_ksize, conv_strides, pool_ksize, pool_strides)\n",
    "    conv_ksize = [3, 3]\n",
    "    conv_strides = [1, 1]\n",
    "    pool_ksize = [2, 2]\n",
    "    pool_strides = [2, 2]\n",
    "    \n",
    "    conv = conv2d_maxpool(x, 32, conv_ksize, conv_strides, pool_ksize, pool_strides)\n",
    "    conv = conv2d_maxpool(conv, 32, conv_ksize, conv_strides, pool_ksize, pool_strides)\n",
    "#     conv = conv2d_maxpool(x, 64, conv_ksize, conv_strides, pool_ksize, pool_strides)\n",
    "\n",
    "    \n",
    "    # TODO: Apply a Flatten Layer\n",
    "    # Function Definition from Above:\n",
    "    #   flatten(x_tensor)\n",
    "    conv = flatten(conv)\n",
    "    \n",
    "\n",
    "    # TODO: Apply 1, 2, or 3 Fully Connected Layers\n",
    "    #    Play around with different number of outputs\n",
    "    # Function Definition from Above:\n",
    "    #   fully_conn(x_tensor, num_outputs)\n",
    "    conv = fully_conn(conv, 64)\n",
    "    conv = tf.nn.dropout(conv, keep_prob)\n",
    "    conv = fully_conn(conv, 32)\n",
    "    conv = tf.nn.dropout(conv, keep_prob)\n",
    "#     conv = fully_conn(conv, 64)\n",
    "    \n",
    "    \n",
    "    # TODO: Apply an Output Layer\n",
    "    #    Set this to the number of classes\n",
    "    # Function Definition from Above:\n",
    "    #   output(x_tensor, num_outputs)\n",
    "    conv = output(conv, 10)\n",
    "    \n",
    "    \n",
    "    # TODO: return output\n",
    "    return conv\n",
    "\n",
    "\n",
    "\"\"\"\n",
    "DON'T MODIFY ANYTHING IN THIS CELL THAT IS BELOW THIS LINE\n",
    "\"\"\"\n",
    "\n",
    "##############################\n",
    "## Build the Neural Network ##\n",
    "##############################\n",
    "\n",
    "# Remove previous weights, bias, inputs, etc..\n",
    "tf.reset_default_graph()\n",
    "\n",
    "# Inputs\n",
    "x = neural_net_image_input((32, 32, 3))\n",
    "y = neural_net_label_input(10)\n",
    "keep_prob = neural_net_keep_prob_input()\n",
    "\n",
    "# Model\n",
    "logits = conv_net(x, keep_prob)\n",
    "\n",
    "# Name logits Tensor, so that is can be loaded from disk after training\n",
    "logits = tf.identity(logits, name='logits')\n",
    "\n",
    "# Loss and Optimizer\n",
    "cost = tf.reduce_mean(tf.nn.softmax_cross_entropy_with_logits(logits=logits, labels=y))\n",
    "optimizer = tf.train.AdamOptimizer().minimize(cost)\n",
    "\n",
    "# Accuracy\n",
    "correct_pred = tf.equal(tf.argmax(logits, 1), tf.argmax(y, 1))\n",
    "accuracy = tf.reduce_mean(tf.cast(correct_pred, tf.float32), name='accuracy')\n",
    "\n",
    "tests.test_conv_net(conv_net)"
   ]
  },
  {
   "cell_type": "markdown",
   "metadata": {},
   "source": [
    "## Train the Neural Network\n",
    "### Single Optimization\n",
    "Implement the function `train_neural_network` to do a single optimization.  The optimization should use `optimizer` to optimize in `session` with a `feed_dict` of the following:\n",
    "* `x` for image input\n",
    "* `y` for labels\n",
    "* `keep_prob` for keep probability for dropout\n",
    "\n",
    "This function will be called for each batch, so `tf.global_variables_initializer()` has already been called.\n",
    "\n",
    "Note: Nothing needs to be returned. This function is only optimizing the neural network."
   ]
  },
  {
   "cell_type": "code",
   "execution_count": 13,
   "metadata": {},
   "outputs": [
    {
     "name": "stdout",
     "output_type": "stream",
     "text": [
      "Tests Passed\n"
     ]
    }
   ],
   "source": [
    "def train_neural_network(session, optimizer, keep_probability, feature_batch, label_batch):\n",
    "    \"\"\"\n",
    "    Optimize the session on a batch of images and labels\n",
    "    : session: Current TensorFlow session\n",
    "    : optimizer: TensorFlow optimizer function\n",
    "    : keep_probability: keep probability\n",
    "    : feature_batch: Batch of Numpy image data\n",
    "    : label_batch: Batch of Numpy label data\n",
    "    \"\"\"\n",
    "    # TODO: Implement Function\n",
    "    session.run(optimizer, feed_dict={x: feature_batch, y: label_batch, keep_prob: keep_probability})\n",
    "\n",
    "\n",
    "\"\"\"\n",
    "DON'T MODIFY ANYTHING IN THIS CELL THAT IS BELOW THIS LINE\n",
    "\"\"\"\n",
    "tests.test_train_nn(train_neural_network)"
   ]
  },
  {
   "cell_type": "markdown",
   "metadata": {},
   "source": [
    "### Show Stats\n",
    "Implement the function `print_stats` to print loss and validation accuracy.  Use the global variables `valid_features` and `valid_labels` to calculate validation accuracy.  Use a keep probability of `1.0` to calculate the loss and validation accuracy."
   ]
  },
  {
   "cell_type": "code",
   "execution_count": 14,
   "metadata": {
    "collapsed": true
   },
   "outputs": [],
   "source": [
    "def print_stats(session, feature_batch, label_batch, cost, accuracy):\n",
    "    \"\"\"\n",
    "    Print information about loss and validation accuracy\n",
    "    : session: Current TensorFlow session\n",
    "    : feature_batch: Batch of Numpy image data\n",
    "    : label_batch: Batch of Numpy label data\n",
    "    : cost: TensorFlow cost function\n",
    "    : accuracy: TensorFlow accuracy function\n",
    "    \"\"\"\n",
    "    # TODO: Implement Function\n",
    "    global valid_features, valid_labels\n",
    "    accuracy = session.run(accuracy, feed_dict={x: valid_features, y: valid_labels, keep_prob: 1.0})\n",
    "    Loss = session.run(cost, feed_dict={x: feature_batch, y: label_batch, keep_prob:1.0})\n",
    "    print('Loss: {0}, Accuracy: {1}'.format(Loss, accuracy))"
   ]
  },
  {
   "cell_type": "markdown",
   "metadata": {},
   "source": [
    "### Hyperparameters\n",
    "Tune the following parameters:\n",
    "* Set `epochs` to the number of iterations until the network stops learning or start overfitting\n",
    "* Set `batch_size` to the highest number that your machine has memory for.  Most people set them to common sizes of memory:\n",
    " * 64\n",
    " * 128\n",
    " * 256\n",
    " * ...\n",
    "* Set `keep_probability` to the probability of keeping a node using dropout"
   ]
  },
  {
   "cell_type": "code",
   "execution_count": 15,
   "metadata": {
    "collapsed": true
   },
   "outputs": [],
   "source": [
    "# TODO: Tune Parameters\n",
    "epochs = 50\n",
    "batch_size = 512\n",
    "keep_probability = 0.5"
   ]
  },
  {
   "cell_type": "markdown",
   "metadata": {},
   "source": [
    "### Train on a Single CIFAR-10 Batch\n",
    "Instead of training the neural network on all the CIFAR-10 batches of data, let's use a single batch. This should save time while you iterate on the model to get a better accuracy.  Once the final validation accuracy is 50% or greater, run the model on all the data in the next section."
   ]
  },
  {
   "cell_type": "code",
   "execution_count": 16,
   "metadata": {},
   "outputs": [
    {
     "name": "stdout",
     "output_type": "stream",
     "text": [
      "Checking the Training on a Single Batch...\n",
      "Epoch  1, CIFAR-10 Batch 1:  Loss: 2.27587890625, Accuracy: 0.19359999895095825\n",
      "Epoch  2, CIFAR-10 Batch 1:  Loss: 2.178985357284546, Accuracy: 0.1964000016450882\n",
      "Epoch  3, CIFAR-10 Batch 1:  Loss: 2.118696451187134, Accuracy: 0.24639999866485596\n",
      "Epoch  4, CIFAR-10 Batch 1:  Loss: 2.0579771995544434, Accuracy: 0.2630000114440918\n",
      "Epoch  5, CIFAR-10 Batch 1:  Loss: 1.997549057006836, Accuracy: 0.3199999928474426\n",
      "Epoch  6, CIFAR-10 Batch 1:  Loss: 1.9449485540390015, Accuracy: 0.3409999907016754\n",
      "Epoch  7, CIFAR-10 Batch 1:  Loss: 1.8894684314727783, Accuracy: 0.3393999934196472\n",
      "Epoch  8, CIFAR-10 Batch 1:  Loss: 1.8423521518707275, Accuracy: 0.36419999599456787\n",
      "Epoch  9, CIFAR-10 Batch 1:  Loss: 1.800257921218872, Accuracy: 0.38440001010894775\n",
      "Epoch 10, CIFAR-10 Batch 1:  Loss: 1.7549848556518555, Accuracy: 0.4065999984741211\n",
      "Epoch 11, CIFAR-10 Batch 1:  Loss: 1.7147594690322876, Accuracy: 0.4214000105857849\n",
      "Epoch 12, CIFAR-10 Batch 1:  Loss: 1.6805351972579956, Accuracy: 0.42160001397132874\n",
      "Epoch 13, CIFAR-10 Batch 1:  Loss: 1.6321303844451904, Accuracy: 0.4318000078201294\n",
      "Epoch 14, CIFAR-10 Batch 1:  Loss: 1.5914357900619507, Accuracy: 0.43220001459121704\n",
      "Epoch 15, CIFAR-10 Batch 1:  Loss: 1.5654053688049316, Accuracy: 0.415800005197525\n",
      "Epoch 16, CIFAR-10 Batch 1:  Loss: 1.5290122032165527, Accuracy: 0.4413999915122986\n",
      "Epoch 17, CIFAR-10 Batch 1:  Loss: 1.500826358795166, Accuracy: 0.4456000030040741\n",
      "Epoch 18, CIFAR-10 Batch 1:  Loss: 1.4818379878997803, Accuracy: 0.4618000090122223\n",
      "Epoch 19, CIFAR-10 Batch 1:  Loss: 1.420309066772461, Accuracy: 0.46939998865127563\n",
      "Epoch 20, CIFAR-10 Batch 1:  Loss: 1.4158382415771484, Accuracy: 0.4560000002384186\n",
      "Epoch 21, CIFAR-10 Batch 1:  Loss: 1.3792060613632202, Accuracy: 0.4885999858379364\n",
      "Epoch 22, CIFAR-10 Batch 1:  Loss: 1.3575260639190674, Accuracy: 0.4893999993801117\n",
      "Epoch 23, CIFAR-10 Batch 1:  Loss: 1.3450626134872437, Accuracy: 0.4844000041484833\n",
      "Epoch 24, CIFAR-10 Batch 1:  Loss: 1.3109711408615112, Accuracy: 0.4973999857902527\n",
      "Epoch 25, CIFAR-10 Batch 1:  Loss: 1.2775344848632812, Accuracy: 0.4934000074863434\n",
      "Epoch 26, CIFAR-10 Batch 1:  Loss: 1.2691709995269775, Accuracy: 0.5045999884605408\n",
      "Epoch 27, CIFAR-10 Batch 1:  Loss: 1.2403501272201538, Accuracy: 0.5019999742507935\n",
      "Epoch 28, CIFAR-10 Batch 1:  Loss: 1.267957091331482, Accuracy: 0.47699999809265137\n",
      "Epoch 29, CIFAR-10 Batch 1:  Loss: 1.2364227771759033, Accuracy: 0.4966000020503998\n",
      "Epoch 30, CIFAR-10 Batch 1:  Loss: 1.1933648586273193, Accuracy: 0.5072000026702881\n",
      "Epoch 31, CIFAR-10 Batch 1:  Loss: 1.1761014461517334, Accuracy: 0.519599974155426\n",
      "Epoch 32, CIFAR-10 Batch 1:  Loss: 1.152435064315796, Accuracy: 0.5220000147819519\n",
      "Epoch 33, CIFAR-10 Batch 1:  Loss: 1.1482181549072266, Accuracy: 0.5181999802589417\n",
      "Epoch 34, CIFAR-10 Batch 1:  Loss: 1.1105055809020996, Accuracy: 0.5181999802589417\n",
      "Epoch 35, CIFAR-10 Batch 1:  Loss: 1.1205635070800781, Accuracy: 0.5257999897003174\n",
      "Epoch 36, CIFAR-10 Batch 1:  Loss: 1.109537124633789, Accuracy: 0.5266000032424927\n",
      "Epoch 37, CIFAR-10 Batch 1:  Loss: 1.0835376977920532, Accuracy: 0.5314000248908997\n",
      "Epoch 38, CIFAR-10 Batch 1:  Loss: 1.052947759628296, Accuracy: 0.5370000004768372\n",
      "Epoch 39, CIFAR-10 Batch 1:  Loss: 1.0610588788986206, Accuracy: 0.5351999998092651\n",
      "Epoch 40, CIFAR-10 Batch 1:  Loss: 1.036455750465393, Accuracy: 0.5351999998092651\n",
      "Epoch 41, CIFAR-10 Batch 1:  Loss: 1.0311782360076904, Accuracy: 0.5389999747276306\n",
      "Epoch 42, CIFAR-10 Batch 1:  Loss: 1.0228471755981445, Accuracy: 0.5429999828338623\n",
      "Epoch 43, CIFAR-10 Batch 1:  Loss: 1.0164772272109985, Accuracy: 0.5347999930381775\n",
      "Epoch 44, CIFAR-10 Batch 1:  Loss: 1.01068913936615, Accuracy: 0.5317999720573425\n",
      "Epoch 45, CIFAR-10 Batch 1:  Loss: 0.9990916848182678, Accuracy: 0.5325999855995178\n",
      "Epoch 46, CIFAR-10 Batch 1:  Loss: 0.9822666049003601, Accuracy: 0.5443999767303467\n",
      "Epoch 47, CIFAR-10 Batch 1:  Loss: 0.9831665754318237, Accuracy: 0.5411999821662903\n",
      "Epoch 48, CIFAR-10 Batch 1:  Loss: 0.9520495533943176, Accuracy: 0.5396000146865845\n",
      "Epoch 49, CIFAR-10 Batch 1:  Loss: 0.9424472451210022, Accuracy: 0.5455999970436096\n",
      "Epoch 50, CIFAR-10 Batch 1:  Loss: 0.9552320241928101, Accuracy: 0.5317999720573425\n"
     ]
    }
   ],
   "source": [
    "\"\"\"\n",
    "DON'T MODIFY ANYTHING IN THIS CELL\n",
    "\"\"\"\n",
    "print('Checking the Training on a Single Batch...')\n",
    "with tf.Session() as sess:\n",
    "    # Initializing the variables\n",
    "    sess.run(tf.global_variables_initializer())\n",
    "    \n",
    "    # Training cycle\n",
    "    for epoch in range(epochs):\n",
    "        batch_i = 1\n",
    "        for batch_features, batch_labels in helper.load_preprocess_training_batch(batch_i, batch_size):\n",
    "            train_neural_network(sess, optimizer, keep_probability, batch_features, batch_labels)\n",
    "        print('Epoch {:>2}, CIFAR-10 Batch {}:  '.format(epoch + 1, batch_i), end='')\n",
    "        print_stats(sess, batch_features, batch_labels, cost, accuracy)"
   ]
  },
  {
   "cell_type": "markdown",
   "metadata": {},
   "source": [
    "### Fully Train the Model\n",
    "Now that you got a good accuracy with a single CIFAR-10 batch, try it with all five batches."
   ]
  },
  {
   "cell_type": "code",
   "execution_count": 17,
   "metadata": {},
   "outputs": [
    {
     "name": "stdout",
     "output_type": "stream",
     "text": [
      "Training...\n",
      "Epoch  1, CIFAR-10 Batch 1:  Loss: 2.288093328475952, Accuracy: 0.19699999690055847\n",
      "Epoch  1, CIFAR-10 Batch 2:  Loss: 2.252687931060791, Accuracy: 0.21359999477863312\n",
      "Epoch  1, CIFAR-10 Batch 3:  Loss: 2.1685874462127686, Accuracy: 0.26080000400543213\n",
      "Epoch  1, CIFAR-10 Batch 4:  Loss: 2.0098366737365723, Accuracy: 0.2624000012874603\n",
      "Epoch  1, CIFAR-10 Batch 5:  Loss: 1.9505985975265503, Accuracy: 0.2978000044822693\n",
      "Epoch  2, CIFAR-10 Batch 1:  Loss: 1.939587116241455, Accuracy: 0.33180001378059387\n",
      "Epoch  2, CIFAR-10 Batch 2:  Loss: 1.8323009014129639, Accuracy: 0.36739999055862427\n",
      "Epoch  2, CIFAR-10 Batch 3:  Loss: 1.7663648128509521, Accuracy: 0.36980000138282776\n",
      "Epoch  2, CIFAR-10 Batch 4:  Loss: 1.6974095106124878, Accuracy: 0.3776000142097473\n",
      "Epoch  2, CIFAR-10 Batch 5:  Loss: 1.720349669456482, Accuracy: 0.3792000114917755\n",
      "Epoch  3, CIFAR-10 Batch 1:  Loss: 1.7679431438446045, Accuracy: 0.40799999237060547\n",
      "Epoch  3, CIFAR-10 Batch 2:  Loss: 1.6613365411758423, Accuracy: 0.41119998693466187\n",
      "Epoch  3, CIFAR-10 Batch 3:  Loss: 1.599452257156372, Accuracy: 0.42419999837875366\n",
      "Epoch  3, CIFAR-10 Batch 4:  Loss: 1.5389854907989502, Accuracy: 0.42739999294281006\n",
      "Epoch  3, CIFAR-10 Batch 5:  Loss: 1.5697730779647827, Accuracy: 0.42640000581741333\n",
      "Epoch  4, CIFAR-10 Batch 1:  Loss: 1.6573045253753662, Accuracy: 0.4323999881744385\n",
      "Epoch  4, CIFAR-10 Batch 2:  Loss: 1.6101354360580444, Accuracy: 0.44279998540878296\n",
      "Epoch  4, CIFAR-10 Batch 3:  Loss: 1.4656838178634644, Accuracy: 0.451200008392334\n",
      "Epoch  4, CIFAR-10 Batch 4:  Loss: 1.4469664096832275, Accuracy: 0.44940000772476196\n",
      "Epoch  4, CIFAR-10 Batch 5:  Loss: 1.465772032737732, Accuracy: 0.453000009059906\n",
      "Epoch  5, CIFAR-10 Batch 1:  Loss: 1.5681545734405518, Accuracy: 0.4564000070095062\n",
      "Epoch  5, CIFAR-10 Batch 2:  Loss: 1.4839576482772827, Accuracy: 0.47620001435279846\n",
      "Epoch  5, CIFAR-10 Batch 3:  Loss: 1.3514280319213867, Accuracy: 0.4674000144004822\n",
      "Epoch  5, CIFAR-10 Batch 4:  Loss: 1.3955016136169434, Accuracy: 0.46799999475479126\n",
      "Epoch  5, CIFAR-10 Batch 5:  Loss: 1.4092050790786743, Accuracy: 0.4668000042438507\n",
      "Epoch  6, CIFAR-10 Batch 1:  Loss: 1.5020426511764526, Accuracy: 0.48559999465942383\n",
      "Epoch  6, CIFAR-10 Batch 2:  Loss: 1.4318745136260986, Accuracy: 0.4934000074863434\n",
      "Epoch  6, CIFAR-10 Batch 3:  Loss: 1.3364746570587158, Accuracy: 0.48159998655319214\n",
      "Epoch  6, CIFAR-10 Batch 4:  Loss: 1.3353831768035889, Accuracy: 0.4880000054836273\n",
      "Epoch  6, CIFAR-10 Batch 5:  Loss: 1.371710181236267, Accuracy: 0.49320000410079956\n",
      "Epoch  7, CIFAR-10 Batch 1:  Loss: 1.4335836172103882, Accuracy: 0.5109999775886536\n",
      "Epoch  7, CIFAR-10 Batch 2:  Loss: 1.3765490055084229, Accuracy: 0.5070000290870667\n",
      "Epoch  7, CIFAR-10 Batch 3:  Loss: 1.2392125129699707, Accuracy: 0.5112000107765198\n",
      "Epoch  7, CIFAR-10 Batch 4:  Loss: 1.2935482263565063, Accuracy: 0.5117999911308289\n",
      "Epoch  7, CIFAR-10 Batch 5:  Loss: 1.3036941289901733, Accuracy: 0.5112000107765198\n",
      "Epoch  8, CIFAR-10 Batch 1:  Loss: 1.4055285453796387, Accuracy: 0.5212000012397766\n",
      "Epoch  8, CIFAR-10 Batch 2:  Loss: 1.3383357524871826, Accuracy: 0.5203999876976013\n",
      "Epoch  8, CIFAR-10 Batch 3:  Loss: 1.1804721355438232, Accuracy: 0.5220000147819519\n",
      "Epoch  8, CIFAR-10 Batch 4:  Loss: 1.2435623407363892, Accuracy: 0.5220000147819519\n",
      "Epoch  8, CIFAR-10 Batch 5:  Loss: 1.2472267150878906, Accuracy: 0.527999997138977\n",
      "Epoch  9, CIFAR-10 Batch 1:  Loss: 1.3694785833358765, Accuracy: 0.5238000154495239\n",
      "Epoch  9, CIFAR-10 Batch 2:  Loss: 1.2807413339614868, Accuracy: 0.5306000113487244\n",
      "Epoch  9, CIFAR-10 Batch 3:  Loss: 1.1414744853973389, Accuracy: 0.5307999849319458\n",
      "Epoch  9, CIFAR-10 Batch 4:  Loss: 1.2178645133972168, Accuracy: 0.5374000072479248\n",
      "Epoch  9, CIFAR-10 Batch 5:  Loss: 1.206764817237854, Accuracy: 0.5370000004768372\n",
      "Epoch 10, CIFAR-10 Batch 1:  Loss: 1.333056926727295, Accuracy: 0.5238000154495239\n",
      "Epoch 10, CIFAR-10 Batch 2:  Loss: 1.286168098449707, Accuracy: 0.534600019454956\n",
      "Epoch 10, CIFAR-10 Batch 3:  Loss: 1.1160039901733398, Accuracy: 0.5440000295639038\n",
      "Epoch 10, CIFAR-10 Batch 4:  Loss: 1.1671251058578491, Accuracy: 0.5392000079154968\n",
      "Epoch 10, CIFAR-10 Batch 5:  Loss: 1.1871267557144165, Accuracy: 0.550000011920929\n",
      "Epoch 11, CIFAR-10 Batch 1:  Loss: 1.2576121091842651, Accuracy: 0.5582000017166138\n",
      "Epoch 11, CIFAR-10 Batch 2:  Loss: 1.2014611959457397, Accuracy: 0.5501999855041504\n",
      "Epoch 11, CIFAR-10 Batch 3:  Loss: 1.0654922723770142, Accuracy: 0.5527999997138977\n",
      "Epoch 11, CIFAR-10 Batch 4:  Loss: 1.1218501329421997, Accuracy: 0.5595999956130981\n",
      "Epoch 11, CIFAR-10 Batch 5:  Loss: 1.1501142978668213, Accuracy: 0.5623999834060669\n",
      "Epoch 12, CIFAR-10 Batch 1:  Loss: 1.2363650798797607, Accuracy: 0.5558000206947327\n",
      "Epoch 12, CIFAR-10 Batch 2:  Loss: 1.1870677471160889, Accuracy: 0.5619999766349792\n",
      "Epoch 12, CIFAR-10 Batch 3:  Loss: 1.0487339496612549, Accuracy: 0.5702000260353088\n",
      "Epoch 12, CIFAR-10 Batch 4:  Loss: 1.0999425649642944, Accuracy: 0.5673999786376953\n",
      "Epoch 12, CIFAR-10 Batch 5:  Loss: 1.1195476055145264, Accuracy: 0.5627999901771545\n",
      "Epoch 13, CIFAR-10 Batch 1:  Loss: 1.186875820159912, Accuracy: 0.5672000050544739\n",
      "Epoch 13, CIFAR-10 Batch 2:  Loss: 1.134477972984314, Accuracy: 0.5730000138282776\n",
      "Epoch 13, CIFAR-10 Batch 3:  Loss: 1.0369318723678589, Accuracy: 0.5698000192642212\n",
      "Epoch 13, CIFAR-10 Batch 4:  Loss: 1.0640500783920288, Accuracy: 0.5735999941825867\n",
      "Epoch 13, CIFAR-10 Batch 5:  Loss: 1.074756145477295, Accuracy: 0.5705999732017517\n",
      "Epoch 14, CIFAR-10 Batch 1:  Loss: 1.1598503589630127, Accuracy: 0.5774000287055969\n",
      "Epoch 14, CIFAR-10 Batch 2:  Loss: 1.1092863082885742, Accuracy: 0.5860000252723694\n",
      "Epoch 14, CIFAR-10 Batch 3:  Loss: 0.9807450771331787, Accuracy: 0.5830000042915344\n",
      "Epoch 14, CIFAR-10 Batch 4:  Loss: 1.0428568124771118, Accuracy: 0.576200008392334\n",
      "Epoch 14, CIFAR-10 Batch 5:  Loss: 1.061598539352417, Accuracy: 0.579800009727478\n",
      "Epoch 15, CIFAR-10 Batch 1:  Loss: 1.139752745628357, Accuracy: 0.5794000029563904\n",
      "Epoch 15, CIFAR-10 Batch 2:  Loss: 1.0792673826217651, Accuracy: 0.5825999975204468\n",
      "Epoch 15, CIFAR-10 Batch 3:  Loss: 0.9661591053009033, Accuracy: 0.5960000157356262\n",
      "Epoch 15, CIFAR-10 Batch 4:  Loss: 1.0253186225891113, Accuracy: 0.5835999846458435\n",
      "Epoch 15, CIFAR-10 Batch 5:  Loss: 1.0278003215789795, Accuracy: 0.5928000211715698\n",
      "Epoch 16, CIFAR-10 Batch 1:  Loss: 1.0986794233322144, Accuracy: 0.5911999940872192\n",
      "Epoch 16, CIFAR-10 Batch 2:  Loss: 1.0595124959945679, Accuracy: 0.59579998254776\n",
      "Epoch 16, CIFAR-10 Batch 3:  Loss: 0.9865602850914001, Accuracy: 0.5878000259399414\n",
      "Epoch 16, CIFAR-10 Batch 4:  Loss: 0.9897562265396118, Accuracy: 0.5943999886512756\n",
      "Epoch 16, CIFAR-10 Batch 5:  Loss: 1.0243250131607056, Accuracy: 0.5861999988555908\n",
      "Epoch 17, CIFAR-10 Batch 1:  Loss: 1.0659749507904053, Accuracy: 0.592199981212616\n",
      "Epoch 17, CIFAR-10 Batch 2:  Loss: 1.0354359149932861, Accuracy: 0.6060000061988831\n",
      "Epoch 17, CIFAR-10 Batch 3:  Loss: 0.9329532980918884, Accuracy: 0.6014000177383423\n",
      "Epoch 17, CIFAR-10 Batch 4:  Loss: 0.9763311147689819, Accuracy: 0.5943999886512756\n",
      "Epoch 17, CIFAR-10 Batch 5:  Loss: 0.9930901527404785, Accuracy: 0.6011999845504761\n",
      "Epoch 18, CIFAR-10 Batch 1:  Loss: 1.0535314083099365, Accuracy: 0.593999981880188\n",
      "Epoch 18, CIFAR-10 Batch 2:  Loss: 1.0242301225662231, Accuracy: 0.6037999987602234\n",
      "Epoch 18, CIFAR-10 Batch 3:  Loss: 0.9228169322013855, Accuracy: 0.6028000116348267\n",
      "Epoch 18, CIFAR-10 Batch 4:  Loss: 0.9521691799163818, Accuracy: 0.6096000075340271\n",
      "Epoch 18, CIFAR-10 Batch 5:  Loss: 0.972203254699707, Accuracy: 0.6111999750137329\n",
      "Epoch 19, CIFAR-10 Batch 1:  Loss: 1.057879090309143, Accuracy: 0.5902000069618225\n",
      "Epoch 19, CIFAR-10 Batch 2:  Loss: 1.0056170225143433, Accuracy: 0.6007999777793884\n",
      "Epoch 19, CIFAR-10 Batch 3:  Loss: 0.9255284667015076, Accuracy: 0.603600025177002\n",
      "Epoch 19, CIFAR-10 Batch 4:  Loss: 0.9483634233474731, Accuracy: 0.6051999926567078\n",
      "Epoch 19, CIFAR-10 Batch 5:  Loss: 0.9460655450820923, Accuracy: 0.61080002784729\n",
      "Epoch 20, CIFAR-10 Batch 1:  Loss: 1.0045751333236694, Accuracy: 0.5979999899864197\n",
      "Epoch 20, CIFAR-10 Batch 2:  Loss: 0.9892163872718811, Accuracy: 0.6111999750137329\n",
      "Epoch 20, CIFAR-10 Batch 3:  Loss: 0.877716064453125, Accuracy: 0.6172000169754028\n"
     ]
    },
    {
     "name": "stdout",
     "output_type": "stream",
     "text": [
      "Epoch 20, CIFAR-10 Batch 4:  Loss: 0.9208546280860901, Accuracy: 0.6144000291824341\n",
      "Epoch 20, CIFAR-10 Batch 5:  Loss: 0.9342694878578186, Accuracy: 0.604200005531311\n",
      "Epoch 21, CIFAR-10 Batch 1:  Loss: 0.9954859018325806, Accuracy: 0.6104000210762024\n",
      "Epoch 21, CIFAR-10 Batch 2:  Loss: 0.9603330492973328, Accuracy: 0.6104000210762024\n",
      "Epoch 21, CIFAR-10 Batch 3:  Loss: 0.87497878074646, Accuracy: 0.6126000285148621\n",
      "Epoch 21, CIFAR-10 Batch 4:  Loss: 0.8837888836860657, Accuracy: 0.6164000034332275\n",
      "Epoch 21, CIFAR-10 Batch 5:  Loss: 0.939531147480011, Accuracy: 0.6057999730110168\n",
      "Epoch 22, CIFAR-10 Batch 1:  Loss: 0.9754576683044434, Accuracy: 0.614799976348877\n",
      "Epoch 22, CIFAR-10 Batch 2:  Loss: 0.9467841386795044, Accuracy: 0.6179999709129333\n",
      "Epoch 22, CIFAR-10 Batch 3:  Loss: 0.8589913845062256, Accuracy: 0.614799976348877\n",
      "Epoch 22, CIFAR-10 Batch 4:  Loss: 0.902836799621582, Accuracy: 0.6155999898910522\n",
      "Epoch 22, CIFAR-10 Batch 5:  Loss: 0.9037644863128662, Accuracy: 0.6226000189781189\n",
      "Epoch 23, CIFAR-10 Batch 1:  Loss: 0.95470130443573, Accuracy: 0.6259999871253967\n",
      "Epoch 23, CIFAR-10 Batch 2:  Loss: 0.9171327948570251, Accuracy: 0.6110000014305115\n",
      "Epoch 23, CIFAR-10 Batch 3:  Loss: 0.84809410572052, Accuracy: 0.6244000196456909\n",
      "Epoch 23, CIFAR-10 Batch 4:  Loss: 0.8796683549880981, Accuracy: 0.623199999332428\n",
      "Epoch 23, CIFAR-10 Batch 5:  Loss: 0.8900290727615356, Accuracy: 0.6169999837875366\n",
      "Epoch 24, CIFAR-10 Batch 1:  Loss: 0.9356306791305542, Accuracy: 0.6263999938964844\n",
      "Epoch 24, CIFAR-10 Batch 2:  Loss: 0.8899109363555908, Accuracy: 0.6291999816894531\n",
      "Epoch 24, CIFAR-10 Batch 3:  Loss: 0.8162625432014465, Accuracy: 0.6237999796867371\n",
      "Epoch 24, CIFAR-10 Batch 4:  Loss: 0.8563310503959656, Accuracy: 0.6146000027656555\n",
      "Epoch 24, CIFAR-10 Batch 5:  Loss: 0.8923349976539612, Accuracy: 0.6151999831199646\n",
      "Epoch 25, CIFAR-10 Batch 1:  Loss: 0.9263365268707275, Accuracy: 0.6241999864578247\n",
      "Epoch 25, CIFAR-10 Batch 2:  Loss: 0.8880407214164734, Accuracy: 0.6299999952316284\n",
      "Epoch 25, CIFAR-10 Batch 3:  Loss: 0.8173805475234985, Accuracy: 0.6240000128746033\n",
      "Epoch 25, CIFAR-10 Batch 4:  Loss: 0.8335741758346558, Accuracy: 0.6277999877929688\n",
      "Epoch 25, CIFAR-10 Batch 5:  Loss: 0.8645943403244019, Accuracy: 0.6266000270843506\n",
      "Epoch 26, CIFAR-10 Batch 1:  Loss: 0.8949128985404968, Accuracy: 0.6284000277519226\n",
      "Epoch 26, CIFAR-10 Batch 2:  Loss: 0.8825440406799316, Accuracy: 0.6353999972343445\n",
      "Epoch 26, CIFAR-10 Batch 3:  Loss: 0.7817255258560181, Accuracy: 0.6322000026702881\n",
      "Epoch 26, CIFAR-10 Batch 4:  Loss: 0.8528273105621338, Accuracy: 0.6151999831199646\n",
      "Epoch 26, CIFAR-10 Batch 5:  Loss: 0.8931794166564941, Accuracy: 0.6204000115394592\n",
      "Epoch 27, CIFAR-10 Batch 1:  Loss: 0.8832218050956726, Accuracy: 0.6248000264167786\n",
      "Epoch 27, CIFAR-10 Batch 2:  Loss: 0.9096010327339172, Accuracy: 0.6254000067710876\n",
      "Epoch 27, CIFAR-10 Batch 3:  Loss: 0.7894784808158875, Accuracy: 0.6227999925613403\n",
      "Epoch 27, CIFAR-10 Batch 4:  Loss: 0.8345499634742737, Accuracy: 0.621999979019165\n",
      "Epoch 27, CIFAR-10 Batch 5:  Loss: 0.8564589619636536, Accuracy: 0.6327999830245972\n",
      "Epoch 28, CIFAR-10 Batch 1:  Loss: 0.8713634610176086, Accuracy: 0.631600022315979\n",
      "Epoch 28, CIFAR-10 Batch 2:  Loss: 0.8683909773826599, Accuracy: 0.63919997215271\n",
      "Epoch 28, CIFAR-10 Batch 3:  Loss: 0.77461838722229, Accuracy: 0.621999979019165\n",
      "Epoch 28, CIFAR-10 Batch 4:  Loss: 0.8364740610122681, Accuracy: 0.6230000257492065\n",
      "Epoch 28, CIFAR-10 Batch 5:  Loss: 0.8153150081634521, Accuracy: 0.6398000121116638\n",
      "Epoch 29, CIFAR-10 Batch 1:  Loss: 0.854647696018219, Accuracy: 0.6385999917984009\n",
      "Epoch 29, CIFAR-10 Batch 2:  Loss: 0.8728124499320984, Accuracy: 0.6380000114440918\n",
      "Epoch 29, CIFAR-10 Batch 3:  Loss: 0.7628699541091919, Accuracy: 0.6295999884605408\n",
      "Epoch 29, CIFAR-10 Batch 4:  Loss: 0.7889872193336487, Accuracy: 0.629800021648407\n",
      "Epoch 29, CIFAR-10 Batch 5:  Loss: 0.8443582653999329, Accuracy: 0.6294000148773193\n",
      "Epoch 30, CIFAR-10 Batch 1:  Loss: 0.8297640681266785, Accuracy: 0.6388000249862671\n",
      "Epoch 30, CIFAR-10 Batch 2:  Loss: 0.8297733068466187, Accuracy: 0.6421999931335449\n",
      "Epoch 30, CIFAR-10 Batch 3:  Loss: 0.7393032908439636, Accuracy: 0.6402000188827515\n",
      "Epoch 30, CIFAR-10 Batch 4:  Loss: 0.7875591516494751, Accuracy: 0.6308000087738037\n",
      "Epoch 30, CIFAR-10 Batch 5:  Loss: 0.7908433675765991, Accuracy: 0.6366000175476074\n",
      "Epoch 31, CIFAR-10 Batch 1:  Loss: 0.8243429660797119, Accuracy: 0.6471999883651733\n",
      "Epoch 31, CIFAR-10 Batch 2:  Loss: 0.8211727142333984, Accuracy: 0.644599974155426\n",
      "Epoch 31, CIFAR-10 Batch 3:  Loss: 0.7543348073959351, Accuracy: 0.6373999714851379\n",
      "Epoch 31, CIFAR-10 Batch 4:  Loss: 0.796185314655304, Accuracy: 0.6416000127792358\n",
      "Epoch 31, CIFAR-10 Batch 5:  Loss: 0.8023050427436829, Accuracy: 0.63919997215271\n",
      "Epoch 32, CIFAR-10 Batch 1:  Loss: 0.8023236989974976, Accuracy: 0.6467999815940857\n",
      "Epoch 32, CIFAR-10 Batch 2:  Loss: 0.7894124984741211, Accuracy: 0.6517999768257141\n",
      "Epoch 32, CIFAR-10 Batch 3:  Loss: 0.7503296136856079, Accuracy: 0.6431999802589417\n",
      "Epoch 32, CIFAR-10 Batch 4:  Loss: 0.7529279589653015, Accuracy: 0.6502000093460083\n",
      "Epoch 32, CIFAR-10 Batch 5:  Loss: 0.7591076493263245, Accuracy: 0.6456000208854675\n",
      "Epoch 33, CIFAR-10 Batch 1:  Loss: 0.7968631982803345, Accuracy: 0.6552000045776367\n",
      "Epoch 33, CIFAR-10 Batch 2:  Loss: 0.7971387505531311, Accuracy: 0.6417999863624573\n",
      "Epoch 33, CIFAR-10 Batch 3:  Loss: 0.7311345934867859, Accuracy: 0.63919997215271\n",
      "Epoch 33, CIFAR-10 Batch 4:  Loss: 0.754366397857666, Accuracy: 0.6514000296592712\n",
      "Epoch 33, CIFAR-10 Batch 5:  Loss: 0.7586585283279419, Accuracy: 0.6480000019073486\n",
      "Epoch 34, CIFAR-10 Batch 1:  Loss: 0.7759485244750977, Accuracy: 0.6502000093460083\n",
      "Epoch 34, CIFAR-10 Batch 2:  Loss: 0.7863725423812866, Accuracy: 0.6453999876976013\n",
      "Epoch 34, CIFAR-10 Batch 3:  Loss: 0.7256601452827454, Accuracy: 0.6388000249862671\n",
      "Epoch 34, CIFAR-10 Batch 4:  Loss: 0.7588356733322144, Accuracy: 0.6309999823570251\n",
      "Epoch 34, CIFAR-10 Batch 5:  Loss: 0.772896409034729, Accuracy: 0.640999972820282\n",
      "Epoch 35, CIFAR-10 Batch 1:  Loss: 0.7836644053459167, Accuracy: 0.6467999815940857\n",
      "Epoch 35, CIFAR-10 Batch 2:  Loss: 0.7731166481971741, Accuracy: 0.650600016117096\n",
      "Epoch 35, CIFAR-10 Batch 3:  Loss: 0.7153550982475281, Accuracy: 0.6381999850273132\n",
      "Epoch 35, CIFAR-10 Batch 4:  Loss: 0.7512710690498352, Accuracy: 0.6462000012397766\n",
      "Epoch 35, CIFAR-10 Batch 5:  Loss: 0.7457639575004578, Accuracy: 0.6438000202178955\n",
      "Epoch 36, CIFAR-10 Batch 1:  Loss: 0.7564501166343689, Accuracy: 0.6549999713897705\n",
      "Epoch 36, CIFAR-10 Batch 2:  Loss: 0.7533189654350281, Accuracy: 0.6556000113487244\n",
      "Epoch 36, CIFAR-10 Batch 3:  Loss: 0.7074832916259766, Accuracy: 0.6467999815940857\n",
      "Epoch 36, CIFAR-10 Batch 4:  Loss: 0.7566285133361816, Accuracy: 0.6480000019073486\n",
      "Epoch 36, CIFAR-10 Batch 5:  Loss: 0.7439870834350586, Accuracy: 0.6489999890327454\n",
      "Epoch 37, CIFAR-10 Batch 1:  Loss: 0.795440673828125, Accuracy: 0.645799994468689\n",
      "Epoch 37, CIFAR-10 Batch 2:  Loss: 0.7540335655212402, Accuracy: 0.6564000248908997\n",
      "Epoch 37, CIFAR-10 Batch 3:  Loss: 0.6980428695678711, Accuracy: 0.6496000289916992\n",
      "Epoch 37, CIFAR-10 Batch 4:  Loss: 0.7228301763534546, Accuracy: 0.6498000025749207\n",
      "Epoch 37, CIFAR-10 Batch 5:  Loss: 0.7142701148986816, Accuracy: 0.6567999720573425\n",
      "Epoch 38, CIFAR-10 Batch 1:  Loss: 0.763575553894043, Accuracy: 0.6628000140190125\n",
      "Epoch 38, CIFAR-10 Batch 2:  Loss: 0.7473040819168091, Accuracy: 0.6571999788284302\n",
      "Epoch 38, CIFAR-10 Batch 3:  Loss: 0.6983581781387329, Accuracy: 0.6570000052452087\n",
      "Epoch 38, CIFAR-10 Batch 4:  Loss: 0.6944724321365356, Accuracy: 0.6575999855995178\n",
      "Epoch 38, CIFAR-10 Batch 5:  Loss: 0.7139180898666382, Accuracy: 0.6589999794960022\n",
      "Epoch 39, CIFAR-10 Batch 1:  Loss: 0.7564868330955505, Accuracy: 0.6633999943733215\n",
      "Epoch 39, CIFAR-10 Batch 2:  Loss: 0.7322118878364563, Accuracy: 0.6543999910354614\n",
      "Epoch 39, CIFAR-10 Batch 3:  Loss: 0.700683057308197, Accuracy: 0.645799994468689\n",
      "Epoch 39, CIFAR-10 Batch 4:  Loss: 0.7015910744667053, Accuracy: 0.6538000106811523\n",
      "Epoch 39, CIFAR-10 Batch 5:  Loss: 0.7210053205490112, Accuracy: 0.6575999855995178\n",
      "Epoch 40, CIFAR-10 Batch 1:  Loss: 0.7420321106910706, Accuracy: 0.6603999733924866\n"
     ]
    },
    {
     "name": "stdout",
     "output_type": "stream",
     "text": [
      "Epoch 40, CIFAR-10 Batch 2:  Loss: 0.7068986296653748, Accuracy: 0.6632000207901001\n",
      "Epoch 40, CIFAR-10 Batch 3:  Loss: 0.6774073839187622, Accuracy: 0.6582000255584717\n",
      "Epoch 40, CIFAR-10 Batch 4:  Loss: 0.6873704195022583, Accuracy: 0.6453999876976013\n",
      "Epoch 40, CIFAR-10 Batch 5:  Loss: 0.6999725103378296, Accuracy: 0.6552000045776367\n",
      "Epoch 41, CIFAR-10 Batch 1:  Loss: 0.7166135311126709, Accuracy: 0.6696000099182129\n",
      "Epoch 41, CIFAR-10 Batch 2:  Loss: 0.7370564341545105, Accuracy: 0.6442000269889832\n",
      "Epoch 41, CIFAR-10 Batch 3:  Loss: 0.6740481853485107, Accuracy: 0.6574000120162964\n",
      "Epoch 41, CIFAR-10 Batch 4:  Loss: 0.6736641526222229, Accuracy: 0.6553999781608582\n",
      "Epoch 41, CIFAR-10 Batch 5:  Loss: 0.711070716381073, Accuracy: 0.6611999869346619\n",
      "Epoch 42, CIFAR-10 Batch 1:  Loss: 0.742459774017334, Accuracy: 0.6656000018119812\n",
      "Epoch 42, CIFAR-10 Batch 2:  Loss: 0.7094875574111938, Accuracy: 0.6636000275611877\n",
      "Epoch 42, CIFAR-10 Batch 3:  Loss: 0.6713828444480896, Accuracy: 0.6618000268936157\n",
      "Epoch 42, CIFAR-10 Batch 4:  Loss: 0.6716957092285156, Accuracy: 0.6546000242233276\n",
      "Epoch 42, CIFAR-10 Batch 5:  Loss: 0.6767594814300537, Accuracy: 0.6674000024795532\n",
      "Epoch 43, CIFAR-10 Batch 1:  Loss: 0.711647629737854, Accuracy: 0.6618000268936157\n",
      "Epoch 43, CIFAR-10 Batch 2:  Loss: 0.72849440574646, Accuracy: 0.6603999733924866\n",
      "Epoch 43, CIFAR-10 Batch 3:  Loss: 0.6516126394271851, Accuracy: 0.6589999794960022\n",
      "Epoch 43, CIFAR-10 Batch 4:  Loss: 0.6473419070243835, Accuracy: 0.6607999801635742\n",
      "Epoch 43, CIFAR-10 Batch 5:  Loss: 0.6895853281021118, Accuracy: 0.6620000004768372\n",
      "Epoch 44, CIFAR-10 Batch 1:  Loss: 0.6900452375411987, Accuracy: 0.6725999712944031\n",
      "Epoch 44, CIFAR-10 Batch 2:  Loss: 0.6901452541351318, Accuracy: 0.6628000140190125\n",
      "Epoch 44, CIFAR-10 Batch 3:  Loss: 0.6387431621551514, Accuracy: 0.6647999882698059\n",
      "Epoch 44, CIFAR-10 Batch 4:  Loss: 0.6577910780906677, Accuracy: 0.6636000275611877\n",
      "Epoch 44, CIFAR-10 Batch 5:  Loss: 0.6867789030075073, Accuracy: 0.6597999930381775\n",
      "Epoch 45, CIFAR-10 Batch 1:  Loss: 0.7229618430137634, Accuracy: 0.6624000072479248\n",
      "Epoch 45, CIFAR-10 Batch 2:  Loss: 0.694265604019165, Accuracy: 0.6614000201225281\n",
      "Epoch 45, CIFAR-10 Batch 3:  Loss: 0.6384170055389404, Accuracy: 0.6675999760627747\n",
      "Epoch 45, CIFAR-10 Batch 4:  Loss: 0.6616384387016296, Accuracy: 0.6611999869346619\n",
      "Epoch 45, CIFAR-10 Batch 5:  Loss: 0.6738775372505188, Accuracy: 0.6633999943733215\n",
      "Epoch 46, CIFAR-10 Batch 1:  Loss: 0.7361481189727783, Accuracy: 0.6585999727249146\n",
      "Epoch 46, CIFAR-10 Batch 2:  Loss: 0.6667914986610413, Accuracy: 0.6603999733924866\n",
      "Epoch 46, CIFAR-10 Batch 3:  Loss: 0.6572911739349365, Accuracy: 0.6686000227928162\n",
      "Epoch 46, CIFAR-10 Batch 4:  Loss: 0.6308110952377319, Accuracy: 0.6643999814987183\n",
      "Epoch 46, CIFAR-10 Batch 5:  Loss: 0.6644006967544556, Accuracy: 0.6638000011444092\n",
      "Epoch 47, CIFAR-10 Batch 1:  Loss: 0.6893205046653748, Accuracy: 0.6665999889373779\n",
      "Epoch 47, CIFAR-10 Batch 2:  Loss: 0.6735624670982361, Accuracy: 0.6711999773979187\n",
      "Epoch 47, CIFAR-10 Batch 3:  Loss: 0.6336578130722046, Accuracy: 0.6575999855995178\n",
      "Epoch 47, CIFAR-10 Batch 4:  Loss: 0.6307393908500671, Accuracy: 0.671999990940094\n",
      "Epoch 47, CIFAR-10 Batch 5:  Loss: 0.6434133052825928, Accuracy: 0.6665999889373779\n",
      "Epoch 48, CIFAR-10 Batch 1:  Loss: 0.670466423034668, Accuracy: 0.6743999719619751\n",
      "Epoch 48, CIFAR-10 Batch 2:  Loss: 0.6650812029838562, Accuracy: 0.6531999707221985\n",
      "Epoch 48, CIFAR-10 Batch 3:  Loss: 0.6104663014411926, Accuracy: 0.6700000166893005\n",
      "Epoch 48, CIFAR-10 Batch 4:  Loss: 0.6280695796012878, Accuracy: 0.6669999957084656\n",
      "Epoch 48, CIFAR-10 Batch 5:  Loss: 0.6742111444473267, Accuracy: 0.6557999849319458\n",
      "Epoch 49, CIFAR-10 Batch 1:  Loss: 0.6894965171813965, Accuracy: 0.6718000173568726\n",
      "Epoch 49, CIFAR-10 Batch 2:  Loss: 0.6595865488052368, Accuracy: 0.6607999801635742\n",
      "Epoch 49, CIFAR-10 Batch 3:  Loss: 0.6096663475036621, Accuracy: 0.6758000254631042\n",
      "Epoch 49, CIFAR-10 Batch 4:  Loss: 0.6139293313026428, Accuracy: 0.6686000227928162\n",
      "Epoch 49, CIFAR-10 Batch 5:  Loss: 0.6372424960136414, Accuracy: 0.6682000160217285\n",
      "Epoch 50, CIFAR-10 Batch 1:  Loss: 0.6797100901603699, Accuracy: 0.6588000059127808\n",
      "Epoch 50, CIFAR-10 Batch 2:  Loss: 0.6591392755508423, Accuracy: 0.6564000248908997\n",
      "Epoch 50, CIFAR-10 Batch 3:  Loss: 0.6199794411659241, Accuracy: 0.6642000079154968\n",
      "Epoch 50, CIFAR-10 Batch 4:  Loss: 0.6174899339675903, Accuracy: 0.6629999876022339\n",
      "Epoch 50, CIFAR-10 Batch 5:  Loss: 0.6155903935432434, Accuracy: 0.6660000085830688\n"
     ]
    }
   ],
   "source": [
    "\"\"\"\n",
    "DON'T MODIFY ANYTHING IN THIS CELL\n",
    "\"\"\"\n",
    "save_model_path = './image_classification'\n",
    "\n",
    "print('Training...')\n",
    "with tf.Session() as sess:\n",
    "    # Initializing the variables\n",
    "    sess.run(tf.global_variables_initializer())\n",
    "    \n",
    "    # Training cycle\n",
    "    for epoch in range(epochs):\n",
    "        # Loop over all batches\n",
    "        n_batches = 5\n",
    "        for batch_i in range(1, n_batches + 1):\n",
    "            for batch_features, batch_labels in helper.load_preprocess_training_batch(batch_i, batch_size):\n",
    "                train_neural_network(sess, optimizer, keep_probability, batch_features, batch_labels)\n",
    "            print('Epoch {:>2}, CIFAR-10 Batch {}:  '.format(epoch + 1, batch_i), end='')\n",
    "            print_stats(sess, batch_features, batch_labels, cost, accuracy)\n",
    "            \n",
    "    # Save Model\n",
    "    saver = tf.train.Saver()\n",
    "    save_path = saver.save(sess, save_model_path)"
   ]
  },
  {
   "cell_type": "markdown",
   "metadata": {},
   "source": [
    "# Checkpoint\n",
    "The model has been saved to disk.\n",
    "## Test Model\n",
    "Test your model against the test dataset.  This will be your final accuracy. You should have an accuracy greater than 50%. If you don't, keep tweaking the model architecture and parameters."
   ]
  },
  {
   "cell_type": "code",
   "execution_count": 18,
   "metadata": {},
   "outputs": [
    {
     "name": "stdout",
     "output_type": "stream",
     "text": [
      "INFO:tensorflow:Restoring parameters from ./image_classification\n",
      "Testing Accuracy: 0.6612764239311218\n",
      "\n"
     ]
    },
    {
     "data": {
      "image/png": "[encoded data removed]",
      "text/plain": [
       "<matplotlib.figure.Figure at 0x106aa75f8>"
      ]
     },
     "metadata": {
      "image/png": {
       "height": 319,
       "width": 355
      }
     },
     "output_type": "display_data"
    }
   ],
   "source": [
    "#### \n",
    "\"\"\"\n",
    "DON'T MODIFY ANYTHING IN THIS CELL\n",
    "\"\"\"\n",
    "%matplotlib inline\n",
    "%config InlineBackend.figure_format = 'retina'\n",
    "\n",
    "import tensorflow as tf\n",
    "import pickle\n",
    "import helper\n",
    "import random\n",
    "\n",
    "# Set batch size if not already set\n",
    "try:\n",
    "    if batch_size:\n",
    "        pass\n",
    "except NameError:\n",
    "    batch_size = 64\n",
    "\n",
    "save_model_path = './image_classification'\n",
    "n_samples = 4\n",
    "top_n_predictions = 3\n",
    "\n",
    "def test_model():\n",
    "    \"\"\"\n",
    "    Test the saved model against the test dataset\n",
    "    \"\"\"\n",
    "\n",
    "    test_features, test_labels = pickle.load(open('preprocess_training.p', mode='rb'))\n",
    "    loaded_graph = tf.Graph()\n",
    "\n",
    "    with tf.Session(graph=loaded_graph) as sess:\n",
    "        # Load model\n",
    "        loader = tf.train.import_meta_graph(save_model_path + '.meta')\n",
    "        loader.restore(sess, save_model_path)\n",
    "\n",
    "        # Get Tensors from loaded model\n",
    "        loaded_x = loaded_graph.get_tensor_by_name('x:0')\n",
    "        loaded_y = loaded_graph.get_tensor_by_name('y:0')\n",
    "        loaded_keep_prob = loaded_graph.get_tensor_by_name('keep_prob:0')\n",
    "        loaded_logits = loaded_graph.get_tensor_by_name('logits:0')\n",
    "        loaded_acc = loaded_graph.get_tensor_by_name('accuracy:0')\n",
    "        \n",
    "        # Get accuracy in batches for memory limitations\n",
    "        test_batch_acc_total = 0\n",
    "        test_batch_count = 0\n",
    "        \n",
    "        for train_feature_batch, train_label_batch in helper.batch_features_labels(test_features, test_labels, batch_size):\n",
    "            test_batch_acc_total += sess.run(\n",
    "                loaded_acc,\n",
    "                feed_dict={loaded_x: train_feature_batch, loaded_y: train_label_batch, loaded_keep_prob: 1.0})\n",
    "            test_batch_count += 1\n",
    "\n",
    "        print('Testing Accuracy: {}\\n'.format(test_batch_acc_total/test_batch_count))\n",
    "\n",
    "        # Print Random Samples\n",
    "        random_test_features, random_test_labels = tuple(zip(*random.sample(list(zip(test_features, test_labels)), n_samples)))\n",
    "        random_test_predictions = sess.run(\n",
    "            tf.nn.top_k(tf.nn.softmax(loaded_logits), top_n_predictions),\n",
    "            feed_dict={loaded_x: random_test_features, loaded_y: random_test_labels, loaded_keep_prob: 1.0})\n",
    "        helper.display_image_predictions(random_test_features, random_test_labels, random_test_predictions)\n",
    "\n",
    "\n",
    "test_model()"
   ]
  },
  {
   "cell_type": "markdown",
   "metadata": {},
   "source": [
    "## Why 50-80% Accuracy?\n",
    "You might be wondering why you can't get an accuracy any higher. First things first, 50% isn't bad for a simple CNN.  Pure guessing would get you 10% accuracy. That's because there are many more techniques that can be applied to your model and we recemmond that once you are done with this project, you explore!\n",
    "\n",
    "## Submitting This Project\n",
    "When submitting this project, make sure to run all the cells before saving the notebook.  Save the notebook file as \"image_classification.ipynb\" and save it as a HTML file under \"File\" -> \"Download as\".  Include the \"helper.py\" and \"problem_unittests.py\" files in your submission."
   ]
  }
 ],
 "metadata": {
  "kernelspec": {
   "display_name": "Python 3",
   "language": "python",
   "name": "python3"
  },
  "language_info": {
   "codemirror_mode": {
    "name": "ipython",
    "version": 3
   },
   "file_extension": ".py",
   "mimetype": "text/x-python",
   "name": "python",
   "nbconvert_exporter": "python",
   "pygments_lexer": "ipython3",
   "version": "3.5.3"
  }
 },
 "nbformat": 4,
 "nbformat_minor": 1
}
